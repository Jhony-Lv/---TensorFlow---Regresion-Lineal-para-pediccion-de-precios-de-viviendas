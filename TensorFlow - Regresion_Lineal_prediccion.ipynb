{
 "cells": [
  {
   "cell_type": "code",
   "execution_count": 6,
   "id": "65b2322e",
   "metadata": {},
   "outputs": [],
   "source": [
    "import tensorflow as tf\n",
    "import pandas as pd"
   ]
  },
  {
   "cell_type": "code",
   "execution_count": 11,
   "id": "7a6f57ba",
   "metadata": {},
   "outputs": [
    {
     "data": {
      "text/html": [
       "<div>\n",
       "<style scoped>\n",
       "    .dataframe tbody tr th:only-of-type {\n",
       "        vertical-align: middle;\n",
       "    }\n",
       "\n",
       "    .dataframe tbody tr th {\n",
       "        vertical-align: top;\n",
       "    }\n",
       "\n",
       "    .dataframe thead th {\n",
       "        text-align: right;\n",
       "    }\n",
       "</style>\n",
       "<table border=\"1\" class=\"dataframe\">\n",
       "  <thead>\n",
       "    <tr style=\"text-align: right;\">\n",
       "      <th></th>\n",
       "      <th>longitude</th>\n",
       "      <th>latitude</th>\n",
       "      <th>housing_median_age</th>\n",
       "      <th>total_rooms</th>\n",
       "      <th>total_bedrooms</th>\n",
       "      <th>population</th>\n",
       "      <th>households</th>\n",
       "      <th>median_income</th>\n",
       "      <th>median_house_value</th>\n",
       "    </tr>\n",
       "  </thead>\n",
       "  <tbody>\n",
       "    <tr>\n",
       "      <th>0</th>\n",
       "      <td>-114.31</td>\n",
       "      <td>34.19</td>\n",
       "      <td>15.0</td>\n",
       "      <td>5612.0</td>\n",
       "      <td>1283.0</td>\n",
       "      <td>1015.0</td>\n",
       "      <td>472.0</td>\n",
       "      <td>1.4936</td>\n",
       "      <td>66900.0</td>\n",
       "    </tr>\n",
       "    <tr>\n",
       "      <th>1</th>\n",
       "      <td>-114.47</td>\n",
       "      <td>34.40</td>\n",
       "      <td>19.0</td>\n",
       "      <td>7650.0</td>\n",
       "      <td>1901.0</td>\n",
       "      <td>1129.0</td>\n",
       "      <td>463.0</td>\n",
       "      <td>1.8200</td>\n",
       "      <td>80100.0</td>\n",
       "    </tr>\n",
       "    <tr>\n",
       "      <th>2</th>\n",
       "      <td>-114.56</td>\n",
       "      <td>33.69</td>\n",
       "      <td>17.0</td>\n",
       "      <td>720.0</td>\n",
       "      <td>174.0</td>\n",
       "      <td>333.0</td>\n",
       "      <td>117.0</td>\n",
       "      <td>1.6509</td>\n",
       "      <td>85700.0</td>\n",
       "    </tr>\n",
       "    <tr>\n",
       "      <th>3</th>\n",
       "      <td>-114.57</td>\n",
       "      <td>33.64</td>\n",
       "      <td>14.0</td>\n",
       "      <td>1501.0</td>\n",
       "      <td>337.0</td>\n",
       "      <td>515.0</td>\n",
       "      <td>226.0</td>\n",
       "      <td>3.1917</td>\n",
       "      <td>73400.0</td>\n",
       "    </tr>\n",
       "    <tr>\n",
       "      <th>4</th>\n",
       "      <td>-114.57</td>\n",
       "      <td>33.57</td>\n",
       "      <td>20.0</td>\n",
       "      <td>1454.0</td>\n",
       "      <td>326.0</td>\n",
       "      <td>624.0</td>\n",
       "      <td>262.0</td>\n",
       "      <td>1.9250</td>\n",
       "      <td>65500.0</td>\n",
       "    </tr>\n",
       "  </tbody>\n",
       "</table>\n",
       "</div>"
      ],
      "text/plain": [
       "   longitude  latitude  housing_median_age  total_rooms  total_bedrooms  \\\n",
       "0    -114.31     34.19                15.0       5612.0          1283.0   \n",
       "1    -114.47     34.40                19.0       7650.0          1901.0   \n",
       "2    -114.56     33.69                17.0        720.0           174.0   \n",
       "3    -114.57     33.64                14.0       1501.0           337.0   \n",
       "4    -114.57     33.57                20.0       1454.0           326.0   \n",
       "\n",
       "   population  households  median_income  median_house_value  \n",
       "0      1015.0       472.0         1.4936             66900.0  \n",
       "1      1129.0       463.0         1.8200             80100.0  \n",
       "2       333.0       117.0         1.6509             85700.0  \n",
       "3       515.0       226.0         3.1917             73400.0  \n",
       "4       624.0       262.0         1.9250             65500.0  "
      ]
     },
     "execution_count": 11,
     "metadata": {},
     "output_type": "execute_result"
    }
   ],
   "source": [
    "casas = pd.read_csv('precios_casas.csv')\n",
    "casas.head()"
   ]
  },
  {
   "cell_type": "code",
   "execution_count": 30,
   "id": "6a756099",
   "metadata": {},
   "outputs": [],
   "source": [
    "casas_x = casas.drop('median_house_value', axis = 1)"
   ]
  },
  {
   "cell_type": "code",
   "execution_count": 43,
   "id": "7a2c4825",
   "metadata": {},
   "outputs": [
    {
     "data": {
      "text/plain": [
       "Index(['longitude', 'latitude', 'housing_median_age', 'total_rooms',\n",
       "       'total_bedrooms', 'population', 'households', 'median_income'],\n",
       "      dtype='object')"
      ]
     },
     "execution_count": 43,
     "metadata": {},
     "output_type": "execute_result"
    }
   ],
   "source": [
    "casas_x.columns"
   ]
  },
  {
   "cell_type": "code",
   "execution_count": 23,
   "id": "ee5cfc53",
   "metadata": {},
   "outputs": [],
   "source": [
    "casas_y = casas['median_house_value']"
   ]
  },
  {
   "cell_type": "code",
   "execution_count": 31,
   "id": "fd9ff185",
   "metadata": {},
   "outputs": [],
   "source": [
    "from sklearn.model_selection import train_test_split"
   ]
  },
  {
   "cell_type": "code",
   "execution_count": 32,
   "id": "469e3b66",
   "metadata": {},
   "outputs": [],
   "source": [
    "X_train, X_test, y_train, y_test = train_test_split(casas_x, casas_y, test_size=0.30)"
   ]
  },
  {
   "cell_type": "markdown",
   "id": "53be8596",
   "metadata": {},
   "source": [
    "Ahora normalizamos las variables"
   ]
  },
  {
   "cell_type": "code",
   "execution_count": 33,
   "id": "f10323e8",
   "metadata": {},
   "outputs": [],
   "source": [
    "from sklearn.preprocessing import MinMaxScaler"
   ]
  },
  {
   "cell_type": "code",
   "execution_count": 34,
   "id": "9ddbef17",
   "metadata": {},
   "outputs": [],
   "source": [
    "normalizador = MinMaxScaler()"
   ]
  },
  {
   "cell_type": "code",
   "execution_count": 35,
   "id": "b10025c5",
   "metadata": {},
   "outputs": [
    {
     "data": {
      "text/plain": [
       "MinMaxScaler()"
      ]
     },
     "execution_count": 35,
     "metadata": {},
     "output_type": "execute_result"
    }
   ],
   "source": [
    "normalizador.fit(X_train)"
   ]
  },
  {
   "cell_type": "code",
   "execution_count": 38,
   "id": "7f4e1ff5",
   "metadata": {},
   "outputs": [],
   "source": [
    "X_train = pd.DataFrame(data = normalizador.transform(X_train), columns=X_train.columns, index = X_train.index)"
   ]
  },
  {
   "cell_type": "code",
   "execution_count": 39,
   "id": "83fb2a54",
   "metadata": {},
   "outputs": [],
   "source": [
    "X_test = pd.DataFrame(data = normalizador.transform(X_test), columns=X_test.columns, index = X_test.index)"
   ]
  },
  {
   "cell_type": "code",
   "execution_count": 44,
   "id": "f39ed4aa",
   "metadata": {},
   "outputs": [
    {
     "data": {
      "text/plain": [
       "Index(['longitude', 'latitude', 'housing_median_age', 'total_rooms',\n",
       "       'total_bedrooms', 'population', 'households', 'median_income'],\n",
       "      dtype='object')"
      ]
     },
     "execution_count": 44,
     "metadata": {},
     "output_type": "execute_result"
    }
   ],
   "source": [
    "X_train.columns"
   ]
  },
  {
   "cell_type": "code",
   "execution_count": 45,
   "id": "299c934b",
   "metadata": {},
   "outputs": [],
   "source": [
    "longitude = tf.feature_column.numeric_column('longitude')\n",
    "latitude = tf.feature_column.numeric_column('latitude')\n",
    "housing_median_age = tf.feature_column.numeric_column('housing_median_age')\n",
    "total_rooms = tf.feature_column.numeric_column('total_rooms')\n",
    "total_bedrooms = tf.feature_column.numeric_column('total_bedrooms')\n",
    "population = tf.feature_column.numeric_column('population')\n",
    "households = tf.feature_column.numeric_column('households')\n",
    "median_income = tf.feature_column.numeric_column('median_income')"
   ]
  },
  {
   "cell_type": "code",
   "execution_count": 46,
   "id": "cbf81c68",
   "metadata": {},
   "outputs": [],
   "source": [
    "columnas = [longitude, latitude, housing_median_age, total_rooms, total_bedrooms, population, households, median_income]"
   ]
  },
  {
   "cell_type": "code",
   "execution_count": 57,
   "id": "e9556965",
   "metadata": {},
   "outputs": [],
   "source": [
    "funcion_entrada = tf.estimator.inputs.pandas_input_fn(x=X_train, y=y_train, batch_size=10, num_epochs=1000, shuffle=True)"
   ]
  },
  {
   "cell_type": "code",
   "execution_count": 54,
   "id": "31b4db93",
   "metadata": {
    "collapsed": true
   },
   "outputs": [
    {
     "name": "stdout",
     "output_type": "stream",
     "text": [
      "INFO:tensorflow:Using default config.\n",
      "WARNING:tensorflow:Using temporary folder as model directory: C:\\Users\\Jhony\\AppData\\Local\\Temp\\tmprjiqpvfx\n",
      "INFO:tensorflow:Using config: {'_model_dir': 'C:\\\\Users\\\\Jhony\\\\AppData\\\\Local\\\\Temp\\\\tmprjiqpvfx', '_tf_random_seed': None, '_save_summary_steps': 100, '_save_checkpoints_steps': None, '_save_checkpoints_secs': 600, '_session_config': allow_soft_placement: true\n",
      "graph_options {\n",
      "  rewrite_options {\n",
      "    meta_optimizer_iterations: ONE\n",
      "  }\n",
      "}\n",
      ", '_keep_checkpoint_max': 5, '_keep_checkpoint_every_n_hours': 10000, '_log_step_count_steps': 100, '_train_distribute': None, '_device_fn': None, '_protocol': None, '_eval_distribute': None, '_experimental_distribute': None, '_experimental_max_worker_delay_secs': None, '_service': None, '_cluster_spec': <tensorflow.python.training.server_lib.ClusterSpec object at 0x000001AEEC34EEC8>, '_task_type': 'worker', '_task_id': 0, '_global_id_in_cluster': 0, '_master': '', '_evaluation_master': '', '_is_chief': True, '_num_ps_replicas': 0, '_num_worker_replicas': 1}\n"
     ]
    }
   ],
   "source": [
    "# Tres capas ocultas con 10 nodos cada uno\n",
    "modelo = tf.estimator.DNNRegressor(hidden_units=[10,10,10], feature_columns=columnas)"
   ]
  },
  {
   "cell_type": "code",
   "execution_count": 58,
   "id": "27d81737",
   "metadata": {},
   "outputs": [
    {
     "name": "stdout",
     "output_type": "stream",
     "text": [
      "WARNING:tensorflow:From C:\\Users\\Jhony\\Anaconda3\\envs\\envi_tensorflow\\lib\\site-packages\\tensorflow\\python\\training\\training_util.py:236: Variable.initialized_value (from tensorflow.python.ops.variables) is deprecated and will be removed in a future version.\n",
      "Instructions for updating:\n",
      "Use Variable.read_value. Variables in 2.X are initialized automatically both in eager and graph (inside tf.defun) contexts.\n",
      "WARNING:tensorflow:From C:\\Users\\Jhony\\Anaconda3\\envs\\envi_tensorflow\\lib\\site-packages\\tensorflow_estimator\\python\\estimator\\inputs\\queues\\feeding_queue_runner.py:62: QueueRunner.__init__ (from tensorflow.python.training.queue_runner_impl) is deprecated and will be removed in a future version.\n",
      "Instructions for updating:\n",
      "To construct input pipelines, use the `tf.data` module.\n",
      "WARNING:tensorflow:From C:\\Users\\Jhony\\Anaconda3\\envs\\envi_tensorflow\\lib\\site-packages\\tensorflow_estimator\\python\\estimator\\inputs\\queues\\feeding_functions.py:500: add_queue_runner (from tensorflow.python.training.queue_runner_impl) is deprecated and will be removed in a future version.\n",
      "Instructions for updating:\n",
      "To construct input pipelines, use the `tf.data` module.\n",
      "INFO:tensorflow:Calling model_fn.\n",
      "WARNING:tensorflow:From C:\\Users\\Jhony\\Anaconda3\\envs\\envi_tensorflow\\lib\\site-packages\\tensorflow\\python\\ops\\init_ops.py:1251: calling VarianceScaling.__init__ (from tensorflow.python.ops.init_ops) with dtype is deprecated and will be removed in a future version.\n",
      "Instructions for updating:\n",
      "Call initializer instance with the dtype argument instead of passing it to the constructor\n",
      "WARNING:tensorflow:From C:\\Users\\Jhony\\Anaconda3\\envs\\envi_tensorflow\\lib\\site-packages\\tensorflow_estimator\\python\\estimator\\canned\\head.py:437: to_float (from tensorflow.python.ops.math_ops) is deprecated and will be removed in a future version.\n",
      "Instructions for updating:\n",
      "Use `tf.cast` instead.\n",
      "WARNING:tensorflow:From C:\\Users\\Jhony\\Anaconda3\\envs\\envi_tensorflow\\lib\\site-packages\\tensorflow\\python\\training\\adagrad.py:76: calling Constant.__init__ (from tensorflow.python.ops.init_ops) with dtype is deprecated and will be removed in a future version.\n",
      "Instructions for updating:\n",
      "Call initializer instance with the dtype argument instead of passing it to the constructor\n",
      "INFO:tensorflow:Done calling model_fn.\n",
      "INFO:tensorflow:Create CheckpointSaverHook.\n",
      "WARNING:tensorflow:From C:\\Users\\Jhony\\Anaconda3\\envs\\envi_tensorflow\\lib\\site-packages\\tensorflow\\python\\ops\\array_ops.py:1354: add_dispatch_support.<locals>.wrapper (from tensorflow.python.ops.array_ops) is deprecated and will be removed in a future version.\n",
      "Instructions for updating:\n",
      "Use tf.where in 2.0, which has the same broadcast rule as np.where\n",
      "INFO:tensorflow:Graph was finalized.\n",
      "INFO:tensorflow:Running local_init_op.\n",
      "INFO:tensorflow:Done running local_init_op.\n",
      "WARNING:tensorflow:From C:\\Users\\Jhony\\Anaconda3\\envs\\envi_tensorflow\\lib\\site-packages\\tensorflow\\python\\training\\monitored_session.py:875: start_queue_runners (from tensorflow.python.training.queue_runner_impl) is deprecated and will be removed in a future version.\n",
      "Instructions for updating:\n",
      "To construct input pipelines, use the `tf.data` module.\n",
      "INFO:tensorflow:Saving checkpoints for 0 into C:\\Users\\Jhony\\AppData\\Local\\Temp\\tmprjiqpvfx\\model.ckpt.\n",
      "INFO:tensorflow:loss = 160516650000.0, step = 1\n",
      "INFO:tensorflow:global_step/sec: 436.692\n",
      "INFO:tensorflow:loss = 611646300000.0, step = 101 (0.233 sec)\n",
      "INFO:tensorflow:global_step/sec: 547.709\n",
      "INFO:tensorflow:loss = 627442200000.0, step = 201 (0.182 sec)\n",
      "INFO:tensorflow:global_step/sec: 526.69\n",
      "INFO:tensorflow:loss = 415838470000.0, step = 301 (0.188 sec)\n",
      "INFO:tensorflow:global_step/sec: 523.383\n",
      "INFO:tensorflow:loss = 273691640000.0, step = 401 (0.191 sec)\n",
      "INFO:tensorflow:global_step/sec: 538.236\n",
      "INFO:tensorflow:loss = 172834110000.0, step = 501 (0.187 sec)\n",
      "INFO:tensorflow:global_step/sec: 606.615\n",
      "INFO:tensorflow:loss = 110784905000.0, step = 601 (0.164 sec)\n",
      "INFO:tensorflow:global_step/sec: 769.364\n",
      "INFO:tensorflow:loss = 247781060000.0, step = 701 (0.130 sec)\n",
      "INFO:tensorflow:global_step/sec: 826.047\n",
      "INFO:tensorflow:loss = 314674640000.0, step = 801 (0.121 sec)\n",
      "INFO:tensorflow:global_step/sec: 762.923\n",
      "INFO:tensorflow:loss = 95319490000.0, step = 901 (0.131 sec)\n",
      "INFO:tensorflow:global_step/sec: 775.607\n",
      "INFO:tensorflow:loss = 111285740000.0, step = 1001 (0.129 sec)\n",
      "INFO:tensorflow:global_step/sec: 786.856\n",
      "INFO:tensorflow:loss = 123223270000.0, step = 1101 (0.126 sec)\n",
      "INFO:tensorflow:global_step/sec: 827.44\n",
      "INFO:tensorflow:loss = 127356990000.0, step = 1201 (0.122 sec)\n",
      "INFO:tensorflow:global_step/sec: 803.491\n",
      "INFO:tensorflow:loss = 69855035000.0, step = 1301 (0.125 sec)\n",
      "INFO:tensorflow:global_step/sec: 851.369\n",
      "INFO:tensorflow:loss = 79933490000.0, step = 1401 (0.117 sec)\n",
      "INFO:tensorflow:global_step/sec: 775.26\n",
      "INFO:tensorflow:loss = 213371420000.0, step = 1501 (0.128 sec)\n",
      "INFO:tensorflow:global_step/sec: 803.668\n",
      "INFO:tensorflow:loss = 234898980000.0, step = 1601 (0.125 sec)\n",
      "INFO:tensorflow:global_step/sec: 835.006\n",
      "INFO:tensorflow:loss = 113497490000.0, step = 1701 (0.120 sec)\n",
      "INFO:tensorflow:global_step/sec: 813.401\n",
      "INFO:tensorflow:loss = 150151250000.0, step = 1801 (0.122 sec)\n",
      "INFO:tensorflow:global_step/sec: 776.273\n",
      "INFO:tensorflow:loss = 133258540000.0, step = 1901 (0.130 sec)\n",
      "INFO:tensorflow:global_step/sec: 783.89\n",
      "INFO:tensorflow:loss = 102576650000.0, step = 2001 (0.129 sec)\n",
      "INFO:tensorflow:global_step/sec: 774.971\n",
      "INFO:tensorflow:loss = 180356710000.0, step = 2101 (0.128 sec)\n",
      "INFO:tensorflow:global_step/sec: 764.167\n",
      "INFO:tensorflow:loss = 122773760000.0, step = 2201 (0.130 sec)\n",
      "INFO:tensorflow:global_step/sec: 782.763\n",
      "INFO:tensorflow:loss = 95552680000.0, step = 2301 (0.127 sec)\n",
      "INFO:tensorflow:global_step/sec: 752.437\n",
      "INFO:tensorflow:loss = 72853635000.0, step = 2401 (0.134 sec)\n",
      "INFO:tensorflow:global_step/sec: 777.756\n",
      "INFO:tensorflow:loss = 71820400000.0, step = 2501 (0.129 sec)\n",
      "INFO:tensorflow:global_step/sec: 743.128\n",
      "INFO:tensorflow:loss = 74715840000.0, step = 2601 (0.135 sec)\n",
      "INFO:tensorflow:global_step/sec: 837.75\n",
      "INFO:tensorflow:loss = 104727830000.0, step = 2701 (0.119 sec)\n",
      "INFO:tensorflow:global_step/sec: 761.526\n",
      "INFO:tensorflow:loss = 26436290000.0, step = 2801 (0.131 sec)\n",
      "INFO:tensorflow:global_step/sec: 768.404\n",
      "INFO:tensorflow:loss = 101049130000.0, step = 2901 (0.130 sec)\n",
      "INFO:tensorflow:global_step/sec: 768.883\n",
      "INFO:tensorflow:loss = 80271750000.0, step = 3001 (0.130 sec)\n",
      "INFO:tensorflow:global_step/sec: 763.353\n",
      "INFO:tensorflow:loss = 39538405000.0, step = 3101 (0.130 sec)\n",
      "INFO:tensorflow:global_step/sec: 839.275\n",
      "INFO:tensorflow:loss = 78304680000.0, step = 3201 (0.120 sec)\n",
      "INFO:tensorflow:global_step/sec: 769.834\n",
      "INFO:tensorflow:loss = 182183610000.0, step = 3301 (0.130 sec)\n",
      "INFO:tensorflow:global_step/sec: 800.292\n",
      "INFO:tensorflow:loss = 46041600000.0, step = 3401 (0.125 sec)\n",
      "INFO:tensorflow:global_step/sec: 781.106\n",
      "INFO:tensorflow:loss = 104138880000.0, step = 3501 (0.128 sec)\n",
      "INFO:tensorflow:global_step/sec: 766.758\n",
      "INFO:tensorflow:loss = 234037510000.0, step = 3601 (0.131 sec)\n",
      "INFO:tensorflow:global_step/sec: 764.547\n",
      "INFO:tensorflow:loss = 119956160000.0, step = 3701 (0.129 sec)\n",
      "INFO:tensorflow:global_step/sec: 777.322\n",
      "INFO:tensorflow:loss = 211804500000.0, step = 3801 (0.131 sec)\n",
      "INFO:tensorflow:global_step/sec: 792.215\n",
      "INFO:tensorflow:loss = 34043190000.0, step = 3901 (0.125 sec)\n",
      "INFO:tensorflow:global_step/sec: 758.211\n",
      "INFO:tensorflow:loss = 78090486000.0, step = 4001 (0.132 sec)\n",
      "INFO:tensorflow:global_step/sec: 704.586\n",
      "INFO:tensorflow:loss = 70554140000.0, step = 4101 (0.142 sec)\n",
      "INFO:tensorflow:global_step/sec: 660.998\n",
      "INFO:tensorflow:loss = 65510916000.0, step = 4201 (0.151 sec)\n",
      "INFO:tensorflow:global_step/sec: 793.258\n",
      "INFO:tensorflow:loss = 134757190000.0, step = 4301 (0.126 sec)\n",
      "INFO:tensorflow:global_step/sec: 771.067\n",
      "INFO:tensorflow:loss = 227348320000.0, step = 4401 (0.130 sec)\n",
      "INFO:tensorflow:global_step/sec: 787.559\n",
      "INFO:tensorflow:loss = 123758264000.0, step = 4501 (0.127 sec)\n",
      "INFO:tensorflow:global_step/sec: 826.656\n",
      "INFO:tensorflow:loss = 58276336000.0, step = 4601 (0.120 sec)\n",
      "INFO:tensorflow:global_step/sec: 776.525\n",
      "INFO:tensorflow:loss = 77369230000.0, step = 4701 (0.129 sec)\n",
      "INFO:tensorflow:global_step/sec: 791.775\n",
      "INFO:tensorflow:loss = 70115740000.0, step = 4801 (0.126 sec)\n",
      "INFO:tensorflow:global_step/sec: 815.754\n",
      "INFO:tensorflow:loss = 62544118000.0, step = 4901 (0.124 sec)\n",
      "INFO:tensorflow:global_step/sec: 785.131\n",
      "INFO:tensorflow:loss = 38169076000.0, step = 5001 (0.127 sec)\n",
      "INFO:tensorflow:global_step/sec: 668.283\n",
      "INFO:tensorflow:loss = 235258040000.0, step = 5101 (0.150 sec)\n",
      "INFO:tensorflow:global_step/sec: 586.532\n",
      "INFO:tensorflow:loss = 121280460000.0, step = 5201 (0.171 sec)\n",
      "INFO:tensorflow:global_step/sec: 701.535\n",
      "INFO:tensorflow:loss = 108703710000.0, step = 5301 (0.142 sec)\n",
      "INFO:tensorflow:global_step/sec: 803.687\n",
      "INFO:tensorflow:loss = 74078740000.0, step = 5401 (0.125 sec)\n",
      "INFO:tensorflow:global_step/sec: 807.596\n",
      "INFO:tensorflow:loss = 96186925000.0, step = 5501 (0.123 sec)\n",
      "INFO:tensorflow:global_step/sec: 738.416\n",
      "INFO:tensorflow:loss = 139449970000.0, step = 5601 (0.136 sec)\n",
      "INFO:tensorflow:global_step/sec: 564.899\n",
      "INFO:tensorflow:loss = 62950924000.0, step = 5701 (0.178 sec)\n",
      "INFO:tensorflow:global_step/sec: 615.277\n",
      "INFO:tensorflow:loss = 180087850000.0, step = 5801 (0.161 sec)\n",
      "INFO:tensorflow:global_step/sec: 805.96\n",
      "INFO:tensorflow:loss = 171667980000.0, step = 5901 (0.124 sec)\n",
      "INFO:tensorflow:global_step/sec: 799.363\n",
      "INFO:tensorflow:loss = 158994990000.0, step = 6001 (0.125 sec)\n",
      "INFO:tensorflow:global_step/sec: 764.137\n",
      "INFO:tensorflow:loss = 150845870000.0, step = 6101 (0.130 sec)\n",
      "INFO:tensorflow:global_step/sec: 827.85\n",
      "INFO:tensorflow:loss = 96790330000.0, step = 6201 (0.122 sec)\n",
      "INFO:tensorflow:global_step/sec: 751.483\n",
      "INFO:tensorflow:loss = 195152890000.0, step = 6301 (0.133 sec)\n",
      "INFO:tensorflow:global_step/sec: 773.008\n",
      "INFO:tensorflow:loss = 37934480000.0, step = 6401 (0.129 sec)\n",
      "INFO:tensorflow:global_step/sec: 768.71\n",
      "INFO:tensorflow:loss = 27109405000.0, step = 6501 (0.130 sec)\n",
      "INFO:tensorflow:global_step/sec: 800.105\n",
      "INFO:tensorflow:loss = 51637840000.0, step = 6601 (0.125 sec)\n",
      "INFO:tensorflow:global_step/sec: 670.288\n",
      "INFO:tensorflow:loss = 97457490000.0, step = 6701 (0.149 sec)\n",
      "INFO:tensorflow:global_step/sec: 568.268\n",
      "INFO:tensorflow:loss = 105248940000.0, step = 6801 (0.177 sec)\n",
      "INFO:tensorflow:global_step/sec: 542.44\n",
      "INFO:tensorflow:loss = 160742800000.0, step = 6901 (0.184 sec)\n",
      "INFO:tensorflow:global_step/sec: 535.804\n",
      "INFO:tensorflow:loss = 78357250000.0, step = 7001 (0.186 sec)\n",
      "INFO:tensorflow:global_step/sec: 538.06\n",
      "INFO:tensorflow:loss = 51342620000.0, step = 7101 (0.187 sec)\n",
      "INFO:tensorflow:global_step/sec: 518.626\n",
      "INFO:tensorflow:loss = 127760190000.0, step = 7201 (0.193 sec)\n",
      "INFO:tensorflow:global_step/sec: 733.264\n",
      "INFO:tensorflow:loss = 169415750000.0, step = 7301 (0.135 sec)\n",
      "INFO:tensorflow:global_step/sec: 796.238\n",
      "INFO:tensorflow:loss = 140361630000.0, step = 7401 (0.127 sec)\n",
      "INFO:tensorflow:global_step/sec: 781.368\n",
      "INFO:tensorflow:loss = 48750710000.0, step = 7501 (0.127 sec)\n",
      "INFO:tensorflow:global_step/sec: 799.311\n",
      "INFO:tensorflow:loss = 105073060000.0, step = 7601 (0.128 sec)\n",
      "INFO:tensorflow:global_step/sec: 749.872\n",
      "INFO:tensorflow:loss = 40772588000.0, step = 7701 (0.131 sec)\n",
      "INFO:tensorflow:global_step/sec: 783.565\n",
      "INFO:tensorflow:loss = 128888720000.0, step = 7801 (0.126 sec)\n",
      "INFO:tensorflow:global_step/sec: 769.528\n",
      "INFO:tensorflow:loss = 55494484000.0, step = 7901 (0.130 sec)\n",
      "INFO:tensorflow:Saving checkpoints for 8000 into C:\\Users\\Jhony\\AppData\\Local\\Temp\\tmprjiqpvfx\\model.ckpt.\n",
      "INFO:tensorflow:Loss for final step: 140296830000.0.\n"
     ]
    },
    {
     "data": {
      "text/plain": [
       "<tensorflow_estimator.python.estimator.canned.dnn.DNNRegressor at 0x1aeec39eb88>"
      ]
     },
     "execution_count": 58,
     "metadata": {},
     "output_type": "execute_result"
    }
   ],
   "source": [
    "modelo.train(input_fn = funcion_entrada, steps = 8000)"
   ]
  },
  {
   "cell_type": "code",
   "execution_count": 59,
   "id": "47f09515",
   "metadata": {},
   "outputs": [],
   "source": [
    "funcion_entrada_prediccion = tf.estimator.inputs.pandas_input_fn(x = X_test, batch_size=10, num_epochs=1, shuffle=False)"
   ]
  },
  {
   "cell_type": "code",
   "execution_count": 60,
   "id": "abda499b",
   "metadata": {},
   "outputs": [],
   "source": [
    "generador_predicciones = modelo.predict(funcion_entrada_prediccion)"
   ]
  },
  {
   "cell_type": "code",
   "execution_count": 61,
   "id": "3bc3a885",
   "metadata": {},
   "outputs": [
    {
     "name": "stdout",
     "output_type": "stream",
     "text": [
      "INFO:tensorflow:Calling model_fn.\n",
      "INFO:tensorflow:Done calling model_fn.\n",
      "INFO:tensorflow:Graph was finalized.\n",
      "WARNING:tensorflow:From C:\\Users\\Jhony\\Anaconda3\\envs\\envi_tensorflow\\lib\\site-packages\\tensorflow\\python\\training\\saver.py:1276: checkpoint_exists (from tensorflow.python.training.checkpoint_management) is deprecated and will be removed in a future version.\n",
      "Instructions for updating:\n",
      "Use standard file APIs to check for files with this prefix.\n",
      "INFO:tensorflow:Restoring parameters from C:\\Users\\Jhony\\AppData\\Local\\Temp\\tmprjiqpvfx\\model.ckpt-8000\n",
      "INFO:tensorflow:Running local_init_op.\n",
      "INFO:tensorflow:Done running local_init_op.\n"
     ]
    }
   ],
   "source": [
    "predicciones = list(generador_predicciones)"
   ]
  },
  {
   "cell_type": "code",
   "execution_count": 63,
   "id": "0acd130d",
   "metadata": {},
   "outputs": [],
   "source": [
    "predicciones_finales = []\n",
    "for prediccion in predicciones:\n",
    "    predicciones_finales.append(prediccion['predictions'])"
   ]
  },
  {
   "cell_type": "code",
   "execution_count": 67,
   "id": "6ea6f544",
   "metadata": {},
   "outputs": [],
   "source": [
    "from sklearn.metrics import mean_squared_error"
   ]
  },
  {
   "cell_type": "code",
   "execution_count": 68,
   "id": "c9674fa5",
   "metadata": {},
   "outputs": [
    {
     "data": {
      "text/plain": [
       "101490.01691132033"
      ]
     },
     "execution_count": 68,
     "metadata": {},
     "output_type": "execute_result"
    }
   ],
   "source": [
    "mean_squared_error(y_test, predicciones_finales)**0.5"
   ]
  }
 ],
 "metadata": {
  "kernelspec": {
   "display_name": "Python 3 (ipykernel)",
   "language": "python",
   "name": "python3"
  },
  "language_info": {
   "codemirror_mode": {
    "name": "ipython",
    "version": 3
   },
   "file_extension": ".py",
   "mimetype": "text/x-python",
   "name": "python",
   "nbconvert_exporter": "python",
   "pygments_lexer": "ipython3",
   "version": "3.7.13"
  }
 },
 "nbformat": 4,
 "nbformat_minor": 5
}
